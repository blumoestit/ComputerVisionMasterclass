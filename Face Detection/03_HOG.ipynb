{
 "cells": [
  {
   "cell_type": "markdown",
   "id": "equal-judgment",
   "metadata": {},
   "source": [
    "# Histogram of Oriented Gradients HOG\n",
    "Derivative allows to measure tthe rate of change (zero derivative - no change in color, small derivative - small differences, high derivative - large differences.\n",
    "*Gradient vector* - direction that the values increase\n",
    "\n",
    "www.learnopencv.com"
   ]
  },
  {
   "cell_type": "code",
   "execution_count": 1,
   "id": "affecting-grammar",
   "metadata": {},
   "outputs": [],
   "source": [
    "import dlib # python3 -m pip install dlib\n",
    "import cv2"
   ]
  },
  {
   "cell_type": "code",
   "execution_count": 2,
   "id": "spiritual-anthropology",
   "metadata": {},
   "outputs": [
    {
     "data": {
      "text/plain": [
       "-1"
      ]
     },
     "execution_count": 2,
     "metadata": {},
     "output_type": "execute_result"
    }
   ],
   "source": [
    "image = cv2.imread('Images/people2.jpg')\n",
    "cv2.imshow('People', image)\n",
    "cv2.waitKey(0)\n",
    "cv2.destroyAllWindows()\n",
    "cv2.waitKey(1)"
   ]
  },
  {
   "cell_type": "code",
   "execution_count": 3,
   "id": "fiscal-manitoba",
   "metadata": {},
   "outputs": [],
   "source": [
    "face_detector_hog = dlib.get_frontal_face_detector() # we do not need any file here"
   ]
  },
  {
   "cell_type": "code",
   "execution_count": 4,
   "id": "passing-american",
   "metadata": {},
   "outputs": [],
   "source": [
    "detections = face_detector_hog(image, 1)"
   ]
  },
  {
   "cell_type": "code",
   "execution_count": 5,
   "id": "moved-spotlight",
   "metadata": {},
   "outputs": [
    {
     "data": {
      "text/plain": [
       "(rectangles[[(429, 38) (465, 74)], [(665, 90) (701, 126)], [(717, 103) (760, 146)], [(909, 70) (952, 113)], [(828, 98) (871, 142)], [(605, 70) (641, 106)], [(777, 62) (813, 98)], [(485, 78) (521, 114)], [(386, 60) (429, 103)], [(170, 41) (213, 84)], [(93, 89) (136, 132)], [(237, 50) (280, 94)], [(323, 50) (367, 94)], [(544, 65) (588, 108)]],\n",
       " 14)"
      ]
     },
     "execution_count": 5,
     "metadata": {},
     "output_type": "execute_result"
    }
   ],
   "source": [
    "detections, len(detections)"
   ]
  },
  {
   "cell_type": "markdown",
   "id": "perceived-switzerland",
   "metadata": {},
   "source": [
    "#### Detects all the faces in the picture, which was not the case in the Cascade Classifier"
   ]
  },
  {
   "cell_type": "code",
   "execution_count": 8,
   "id": "extended-minneapolis",
   "metadata": {},
   "outputs": [
    {
     "name": "stdout",
     "output_type": "stream",
     "text": [
      "[(429, 38) (465, 74)]\n",
      "[(665, 90) (701, 126)]\n",
      "[(717, 103) (760, 146)]\n",
      "[(909, 70) (952, 113)]\n",
      "[(828, 98) (871, 142)]\n",
      "[(605, 70) (641, 106)]\n",
      "[(777, 62) (813, 98)]\n",
      "[(485, 78) (521, 114)]\n",
      "[(386, 60) (429, 103)]\n",
      "[(170, 41) (213, 84)]\n",
      "[(93, 89) (136, 132)]\n",
      "[(237, 50) (280, 94)]\n",
      "[(323, 50) (367, 94)]\n",
      "[(544, 65) (588, 108)]\n"
     ]
    },
    {
     "data": {
      "text/plain": [
       "-1"
      ]
     },
     "execution_count": 8,
     "metadata": {},
     "output_type": "execute_result"
    }
   ],
   "source": [
    "for face in detections:\n",
    "    print(face)\n",
    "    #print(face.left())\n",
    "    #print(face.top())\n",
    "    #print(face.right())\n",
    "    #print(face.bottom())\n",
    "    l, t, r, b = face.left(), face.top(), face.right(), face.bottom()\n",
    "    cv2.rectangle(image, (l, t), (r, b), (0, 255, 255), 2)\n",
    "\n",
    "    cv2.imshow('People', image)\n",
    "cv2.waitKey(0)\n",
    "cv2.destroyAllWindows()\n",
    "cv2.waitKey(1)"
   ]
  },
  {
   "cell_type": "code",
   "execution_count": null,
   "id": "ranking-staff",
   "metadata": {},
   "outputs": [],
   "source": []
  }
 ],
 "metadata": {
  "kernelspec": {
   "display_name": "Python 3",
   "language": "python",
   "name": "python3"
  },
  "language_info": {
   "codemirror_mode": {
    "name": "ipython",
    "version": 3
   },
   "file_extension": ".py",
   "mimetype": "text/x-python",
   "name": "python",
   "nbconvert_exporter": "python",
   "pygments_lexer": "ipython3",
   "version": "3.7.4"
  }
 },
 "nbformat": 4,
 "nbformat_minor": 5
}
