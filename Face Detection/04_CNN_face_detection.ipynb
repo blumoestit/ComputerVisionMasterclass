{
 "cells": [
  {
   "cell_type": "markdown",
   "id": "broad-power",
   "metadata": {},
   "source": [
    "# Detecting faces with CNN"
   ]
  },
  {
   "cell_type": "code",
   "execution_count": 7,
   "id": "placed-orientation",
   "metadata": {},
   "outputs": [
    {
     "name": "stdout",
     "output_type": "stream",
     "text": [
      "/Users/magdalenablum-oeste/Google Drive/GitHubMBO/ComputerVisionMasterclass/Face Detection\n"
     ]
    }
   ],
   "source": [
    "!pwd"
   ]
  },
  {
   "cell_type": "code",
   "execution_count": 2,
   "id": "compliant-cocktail",
   "metadata": {},
   "outputs": [],
   "source": [
    "import cv2\n",
    "import dlib"
   ]
  },
  {
   "cell_type": "code",
   "execution_count": 9,
   "id": "empirical-fundamentals",
   "metadata": {},
   "outputs": [],
   "source": [
    "image = cv2.imread('Images/people2.jpg')"
   ]
  },
  {
   "cell_type": "code",
   "execution_count": 17,
   "id": "taken-theme",
   "metadata": {},
   "outputs": [],
   "source": [
    "# Load weights\n",
    "cnn_detector = dlib.cnn_face_detection_model_v1('mmod_human_face_detector.dat')"
   ]
  },
  {
   "cell_type": "code",
   "execution_count": 18,
   "id": "tight-phase",
   "metadata": {},
   "outputs": [
    {
     "name": "stdout",
     "output_type": "stream",
     "text": [
      "1.1440685987472534\n",
      "1.1370508670806885\n",
      "1.127898931503296\n",
      "1.1200220584869385\n",
      "1.1149379014968872\n",
      "1.1131561994552612\n",
      "1.0975711345672607\n",
      "1.0942121744155884\n",
      "1.0853136777877808\n",
      "1.08018958568573\n",
      "1.0800752639770508\n",
      "1.0784765481948853\n",
      "1.066402554512024\n",
      "1.06417977809906\n"
     ]
    },
    {
     "data": {
      "text/plain": [
       "-1"
      ]
     },
     "execution_count": 18,
     "metadata": {},
     "output_type": "execute_result"
    }
   ],
   "source": [
    "detections = cnn_detector(image, 1)\n",
    "for face in detections:\n",
    "    l, t, r, b, c = face.rect.left(), face.rect.top(), face.rect.right(), face.rect.bottom(), face.confidence\n",
    "    print(c)\n",
    "    cv2.rectangle(image, (l, t), (r, b), (255, 255, 0), 2)\n",
    "\n",
    "\n",
    "cv2.imshow('People', image)\n",
    "cv2.waitKey(0)\n",
    "cv2.destroyAllWindows()\n",
    "cv2.waitKey(1)\n",
    "    "
   ]
  },
  {
   "cell_type": "markdown",
   "id": "christian-shower",
   "metadata": {},
   "source": [
    "## Comparison: Haarcascade x HOG x CNN"
   ]
  },
  {
   "cell_type": "code",
   "execution_count": 4,
   "id": "competitive-bradford",
   "metadata": {},
   "outputs": [],
   "source": [
    "image = cv2.imread('Images/people3.jpg')"
   ]
  },
  {
   "cell_type": "code",
   "execution_count": 3,
   "id": "spread-reynolds",
   "metadata": {},
   "outputs": [
    {
     "data": {
      "text/plain": [
       "(294, 626, 3)"
      ]
     },
     "execution_count": 3,
     "metadata": {},
     "output_type": "execute_result"
    }
   ],
   "source": [
    "image.shape"
   ]
  },
  {
   "cell_type": "markdown",
   "id": "equipped-muslim",
   "metadata": {},
   "source": [
    "### Haarcascade"
   ]
  },
  {
   "cell_type": "code",
   "execution_count": 4,
   "id": "excited-london",
   "metadata": {},
   "outputs": [],
   "source": [
    "image_gray = cv2.cvtColor(image,  cv2.COLOR_BGR2GRAY)\n",
    "haarcascade_detector = cv2.CascadeClassifier('haarcascade_frontalface_default.xml')"
   ]
  },
  {
   "cell_type": "code",
   "execution_count": 7,
   "id": "english-dragon",
   "metadata": {},
   "outputs": [
    {
     "data": {
      "text/plain": [
       "-1"
      ]
     },
     "execution_count": 7,
     "metadata": {},
     "output_type": "execute_result"
    }
   ],
   "source": [
    "detections = haarcascade_detector.detectMultiScale(image_gray,\n",
    "                                                  scaleFactor=1.0001,\n",
    "                                                  minNeighbors=5,\n",
    "                                                  minSize=(3,3))\n",
    "for (x, y, w, h) in detections:\n",
    "    cv2.rectangle(image, (x, y), (x + w, y + h), (255, 0, 0), 2)\n",
    "    \n",
    "cv2.imshow('Cascade', image)\n",
    "cv2.waitKey(0)\n",
    "cv2.destroyAllWindows()\n",
    "cv2.waitKey(1)"
   ]
  },
  {
   "cell_type": "markdown",
   "id": "forced-acquisition",
   "metadata": {},
   "source": [
    "### HOG"
   ]
  },
  {
   "cell_type": "code",
   "execution_count": 8,
   "id": "viral-mileage",
   "metadata": {},
   "outputs": [
    {
     "data": {
      "text/plain": [
       "-1"
      ]
     },
     "execution_count": 8,
     "metadata": {},
     "output_type": "execute_result"
    }
   ],
   "source": [
    "face_detector_hog = dlib.get_frontal_face_detector()\n",
    "detections = face_detector_hog(image, 4)\n",
    "for face in detections:\n",
    "    l, t, r, b = (face.left(), face.top(), face.right(), face.bottom())\n",
    "    cv2.rectangle(image, (l, t), (r, b), (0, 255, 255), 2)\n",
    "\n",
    "cv2.imshow('HOG', image)\n",
    "cv2.waitKey(0)\n",
    "cv2.destroyAllWindows()\n",
    "cv2.waitKey(1)"
   ]
  },
  {
   "cell_type": "markdown",
   "id": "automatic-snapshot",
   "metadata": {},
   "source": [
    "### CNN"
   ]
  },
  {
   "cell_type": "code",
   "execution_count": null,
   "id": "transparent-mentor",
   "metadata": {},
   "outputs": [],
   "source": [
    "cnn_detector = dlib.cnn_face_detection_model_v1('mmod_human_face_detector.dat')\n",
    "detections = cnn_detector(image, 4)\n",
    "for face in detections:\n",
    "    l, t, r, b, c = face.rect.left(), face.rect.top(), face.rect.right(), face.rect.bottom(), face.confidence\n",
    "    print(c)\n",
    "    cv2.rectangle(image, (l, t), (r, b), (255, 255, 0), 2)\n",
    "\n",
    "cv2.imshow('CNN', image)\n",
    "cv2.waitKey(0)\n",
    "cv2.destroyAllWindows()\n",
    "cv2.waitKey(1)"
   ]
  },
  {
   "cell_type": "code",
   "execution_count": null,
   "id": "passive-armenia",
   "metadata": {},
   "outputs": [],
   "source": []
  },
  {
   "cell_type": "code",
   "execution_count": null,
   "id": "corresponding-composition",
   "metadata": {},
   "outputs": [],
   "source": []
  }
 ],
 "metadata": {
  "kernelspec": {
   "display_name": "Python 3",
   "language": "python",
   "name": "python3"
  },
  "language_info": {
   "codemirror_mode": {
    "name": "ipython",
    "version": 3
   },
   "file_extension": ".py",
   "mimetype": "text/x-python",
   "name": "python",
   "nbconvert_exporter": "python",
   "pygments_lexer": "ipython3",
   "version": "3.7.4"
  }
 },
 "nbformat": 4,
 "nbformat_minor": 5
}
