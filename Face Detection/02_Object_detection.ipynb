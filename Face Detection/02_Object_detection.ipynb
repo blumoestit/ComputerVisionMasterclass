{
 "cells": [
  {
   "cell_type": "markdown",
   "id": "becoming-polyester",
   "metadata": {},
   "source": [
    "# Objects Detection"
   ]
  },
  {
   "cell_type": "code",
   "execution_count": 2,
   "id": "becoming-attitude",
   "metadata": {},
   "outputs": [],
   "source": [
    "import cv2"
   ]
  },
  {
   "cell_type": "markdown",
   "id": "sharing-chess",
   "metadata": {},
   "source": [
    "## Cars"
   ]
  },
  {
   "cell_type": "code",
   "execution_count": 3,
   "id": "listed-consciousness",
   "metadata": {},
   "outputs": [
    {
     "data": {
      "text/plain": [
       "-1"
      ]
     },
     "execution_count": 3,
     "metadata": {},
     "output_type": "execute_result"
    }
   ],
   "source": [
    "car_detector = cv2.CascadeClassifier('cars.xml')\n",
    "image = cv2.imread('Images/car.jpg')\n",
    "image_gray = cv2.cvtColor(image, cv2.COLOR_BGR2GRAY)\n",
    "detections = car_detector.detectMultiScale(image_gray, scaleFactor = 1.03, minNeighbors=5)                                      \n",
    "\n",
    "for (x, y, w, h) in detections:\n",
    "    cv2.rectangle(image, (x, y), (x + w, y + h), (0,255,0), 2)\n",
    "\n",
    "cv2.imshow('Car detection', image)\n",
    "cv2.waitKey(0)\n",
    "cv2.destroyAllWindows()\n",
    "cv2.waitKey(1)"
   ]
  },
  {
   "cell_type": "markdown",
   "id": "animal-evaluation",
   "metadata": {},
   "source": [
    "## Clocks"
   ]
  },
  {
   "cell_type": "code",
   "execution_count": 7,
   "id": "blond-reason",
   "metadata": {},
   "outputs": [
    {
     "data": {
      "text/plain": [
       "-1"
      ]
     },
     "execution_count": 7,
     "metadata": {},
     "output_type": "execute_result"
    }
   ],
   "source": [
    "car_detector = cv2.CascadeClassifier('clocks.xml')\n",
    "image = cv2.imread('Images/clock.jpg')\n",
    "image_gray = cv2.cvtColor(image, cv2.COLOR_BGR2GRAY)\n",
    "detections = car_detector.detectMultiScale(image_gray, scaleFactor = 1.03, minNeighbors=5)                                      \n",
    "\n",
    "for (x, y, w, h) in detections:\n",
    "    cv2.rectangle(image, (x, y), (x + w, y + h), (0,255,0), 2)\n",
    "\n",
    "cv2.imshow('Clock detection', image)\n",
    "cv2.waitKey(0)\n",
    "cv2.destroyAllWindows()\n",
    "cv2.waitKey(1)"
   ]
  },
  {
   "cell_type": "markdown",
   "id": "rotary-wright",
   "metadata": {},
   "source": [
    "## Bodies"
   ]
  },
  {
   "cell_type": "code",
   "execution_count": 8,
   "id": "active-backup",
   "metadata": {},
   "outputs": [
    {
     "data": {
      "text/plain": [
       "-1"
      ]
     },
     "execution_count": 8,
     "metadata": {},
     "output_type": "execute_result"
    }
   ],
   "source": [
    "car_detector = cv2.CascadeClassifier('fullbody.xml')\n",
    "image = cv2.imread('Images/people3.jpg')\n",
    "image_gray = cv2.cvtColor(image, cv2.COLOR_BGR2GRAY)\n",
    "detections = car_detector.detectMultiScale(image_gray, scaleFactor = 1.03, minNeighbors=5)                                      \n",
    "\n",
    "for (x, y, w, h) in detections:\n",
    "    cv2.rectangle(image, (x, y), (x + w, y + h), (0,255,0), 2)\n",
    "\n",
    "cv2.imshow('Body detection', image)\n",
    "cv2.waitKey(0)\n",
    "cv2.destroyAllWindows()\n",
    "cv2.waitKey(1)"
   ]
  },
  {
   "cell_type": "code",
   "execution_count": null,
   "id": "injured-encounter",
   "metadata": {},
   "outputs": [],
   "source": []
  }
 ],
 "metadata": {
  "kernelspec": {
   "display_name": "Python 3",
   "language": "python",
   "name": "python3"
  },
  "language_info": {
   "codemirror_mode": {
    "name": "ipython",
    "version": 3
   },
   "file_extension": ".py",
   "mimetype": "text/x-python",
   "name": "python",
   "nbconvert_exporter": "python",
   "pygments_lexer": "ipython3",
   "version": "3.7.4"
  }
 },
 "nbformat": 4,
 "nbformat_minor": 5
}
