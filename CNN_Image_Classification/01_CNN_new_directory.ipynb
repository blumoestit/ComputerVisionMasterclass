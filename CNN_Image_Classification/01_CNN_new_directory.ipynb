{
 "cells": [
  {
   "cell_type": "markdown",
   "id": "92429bc7",
   "metadata": {},
   "source": [
    "## Create New Directory"
   ]
  },
  {
   "cell_type": "code",
   "execution_count": 2,
   "id": "c97dd663",
   "metadata": {},
   "outputs": [
    {
     "name": "stdout",
     "output_type": "stream",
     "text": [
      "/Users/magdalenablum-oeste/Google Drive/GitHubMBO/ComputerVisionMasterclass\r\n"
     ]
    }
   ],
   "source": [
    "!pwd\n",
    "import os"
   ]
  },
  {
   "cell_type": "code",
   "execution_count": 4,
   "id": "ff2b798e",
   "metadata": {},
   "outputs": [
    {
     "name": "stdout",
     "output_type": "stream",
     "text": [
      "Current working directory is: /Users/magdalenablum-oeste/Google Drive/GitHubMBO/ComputerVisionMasterclass\n"
     ]
    }
   ],
   "source": [
    "path = os.getcwd()\n",
    "print(\"Current working directory is: %s\" % path)"
   ]
  },
  {
   "cell_type": "code",
   "execution_count": 7,
   "id": "6fd5b098",
   "metadata": {},
   "outputs": [
    {
     "data": {
      "text/plain": [
       "'/Users/magdalenablum-oeste/Google Drive/GitHubMBO/ComputerVisionMasterclass/CNN_Image_Classification'"
      ]
     },
     "execution_count": 7,
     "metadata": {},
     "output_type": "execute_result"
    }
   ],
   "source": [
    "# create new directory\n",
    "path_new_directory = path + \"/CNN_Image_Classification\"\n",
    "path_new_directory"
   ]
  },
  {
   "cell_type": "code",
   "execution_count": 9,
   "id": "97fa90a3",
   "metadata": {},
   "outputs": [
    {
     "name": "stdout",
     "output_type": "stream",
     "text": [
      "Successfully created the directory /Users/magdalenablum-oeste/Google Drive/GitHubMBO/ComputerVisionMasterclass/CNN_Image_Classification \n"
     ]
    }
   ],
   "source": [
    "# try:\n",
    "#     os.mkdir(path_new_directory)\n",
    "# except OSError:\n",
    "#     print(\"Creation of the directory %s failed\" % path_new_directory)\n",
    "# else:\n",
    "#     print (\"Successfully created the directory %s \" % path_new_directory)"
   ]
  },
  {
   "cell_type": "code",
   "execution_count": 10,
   "id": "aaa6d694",
   "metadata": {},
   "outputs": [
    {
     "name": "stdout",
     "output_type": "stream",
     "text": [
      "/Users/magdalenablum-oeste/Google Drive/GitHubMBO/ComputerVisionMasterclass/CNN_Image_Classification\r\n"
     ]
    }
   ],
   "source": [
    "os.chdir(path_new_directory)\n",
    "!pwd"
   ]
  },
  {
   "cell_type": "code",
   "execution_count": null,
   "id": "57e191bb",
   "metadata": {},
   "outputs": [],
   "source": []
  }
 ],
 "metadata": {
  "kernelspec": {
   "display_name": "cvudacity",
   "language": "python",
   "name": "cvudacity"
  },
  "language_info": {
   "codemirror_mode": {
    "name": "ipython",
    "version": 3
   },
   "file_extension": ".py",
   "mimetype": "text/x-python",
   "name": "python",
   "nbconvert_exporter": "python",
   "pygments_lexer": "ipython3",
   "version": "3.8.11"
  }
 },
 "nbformat": 4,
 "nbformat_minor": 5
}
