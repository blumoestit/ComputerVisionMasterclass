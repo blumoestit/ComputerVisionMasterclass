{
 "cells": [
  {
   "cell_type": "markdown",
   "id": "confidential-proxy",
   "metadata": {},
   "source": [
    "# Neural Network for image classification 4"
   ]
  },
  {
   "cell_type": "markdown",
   "id": "female-cornwall",
   "metadata": {},
   "source": [
    "## Train and Test"
   ]
  },
  {
   "cell_type": "code",
   "execution_count": 71,
   "id": "anticipated-kansas",
   "metadata": {},
   "outputs": [],
   "source": [
    "import os\n",
    "import matplotlib.pyplot as plt\n",
    "import cv2\n",
    "import numpy as np\n",
    "import pandas as pd\n",
    "import seaborn as sns"
   ]
  },
  {
   "cell_type": "code",
   "execution_count": 43,
   "id": "balanced-anchor",
   "metadata": {},
   "outputs": [],
   "source": [
    "dataset = pd.read_csv('features.csv')"
   ]
  },
  {
   "cell_type": "code",
   "execution_count": 44,
   "id": "english-trunk",
   "metadata": {},
   "outputs": [
    {
     "data": {
      "text/plain": [
       "pandas.core.frame.DataFrame"
      ]
     },
     "execution_count": 44,
     "metadata": {},
     "output_type": "execute_result"
    }
   ],
   "source": [
    "type(dataset)"
   ]
  },
  {
   "cell_type": "code",
   "execution_count": 45,
   "id": "pressing-creator",
   "metadata": {},
   "outputs": [
    {
     "data": {
      "text/html": [
       "<div>\n",
       "<style scoped>\n",
       "    .dataframe tbody tr th:only-of-type {\n",
       "        vertical-align: middle;\n",
       "    }\n",
       "\n",
       "    .dataframe tbody tr th {\n",
       "        vertical-align: top;\n",
       "    }\n",
       "\n",
       "    .dataframe thead th {\n",
       "        text-align: right;\n",
       "    }\n",
       "</style>\n",
       "<table border=\"1\" class=\"dataframe\">\n",
       "  <thead>\n",
       "    <tr style=\"text-align: right;\">\n",
       "      <th></th>\n",
       "      <th>mouth</th>\n",
       "      <th>pants</th>\n",
       "      <th>shoes</th>\n",
       "      <th>tshirt</th>\n",
       "      <th>shorts</th>\n",
       "      <th>sneakers</th>\n",
       "      <th>class</th>\n",
       "    </tr>\n",
       "  </thead>\n",
       "  <tbody>\n",
       "    <tr>\n",
       "      <th>0</th>\n",
       "      <td>0.0</td>\n",
       "      <td>0.000000</td>\n",
       "      <td>0.114799</td>\n",
       "      <td>6.886102</td>\n",
       "      <td>3.495204</td>\n",
       "      <td>3.495204</td>\n",
       "      <td>0</td>\n",
       "    </tr>\n",
       "    <tr>\n",
       "      <th>1</th>\n",
       "      <td>0.0</td>\n",
       "      <td>0.000000</td>\n",
       "      <td>0.110078</td>\n",
       "      <td>5.004901</td>\n",
       "      <td>3.183889</td>\n",
       "      <td>3.183889</td>\n",
       "      <td>0</td>\n",
       "    </tr>\n",
       "    <tr>\n",
       "      <th>2</th>\n",
       "      <td>0.0</td>\n",
       "      <td>0.000000</td>\n",
       "      <td>0.182519</td>\n",
       "      <td>5.264620</td>\n",
       "      <td>5.029683</td>\n",
       "      <td>5.029683</td>\n",
       "      <td>0</td>\n",
       "    </tr>\n",
       "    <tr>\n",
       "      <th>3</th>\n",
       "      <td>0.0</td>\n",
       "      <td>0.480168</td>\n",
       "      <td>0.080028</td>\n",
       "      <td>0.000000</td>\n",
       "      <td>0.000000</td>\n",
       "      <td>0.000000</td>\n",
       "      <td>0</td>\n",
       "    </tr>\n",
       "    <tr>\n",
       "      <th>4</th>\n",
       "      <td>0.0</td>\n",
       "      <td>0.000000</td>\n",
       "      <td>0.029708</td>\n",
       "      <td>8.978929</td>\n",
       "      <td>3.459119</td>\n",
       "      <td>3.459119</td>\n",
       "      <td>0</td>\n",
       "    </tr>\n",
       "  </tbody>\n",
       "</table>\n",
       "</div>"
      ],
      "text/plain": [
       "   mouth     pants     shoes    tshirt    shorts   sneakers   class\n",
       "0    0.0  0.000000  0.114799  6.886102  3.495204   3.495204       0\n",
       "1    0.0  0.000000  0.110078  5.004901  3.183889   3.183889       0\n",
       "2    0.0  0.000000  0.182519  5.264620  5.029683   5.029683       0\n",
       "3    0.0  0.480168  0.080028  0.000000  0.000000   0.000000       0\n",
       "4    0.0  0.000000  0.029708  8.978929  3.459119   3.459119       0"
      ]
     },
     "execution_count": 45,
     "metadata": {},
     "output_type": "execute_result"
    }
   ],
   "source": [
    "dataset.head()"
   ]
  },
  {
   "cell_type": "markdown",
   "id": "advanced-juvenile",
   "metadata": {},
   "source": [
    "### Select X and y"
   ]
  },
  {
   "cell_type": "code",
   "execution_count": 115,
   "id": "aware-lobby",
   "metadata": {},
   "outputs": [],
   "source": [
    "X = dataset.iloc[:, 0:6].values\n",
    "y = dataset.iloc[:, 6].values"
   ]
  },
  {
   "cell_type": "code",
   "execution_count": 116,
   "id": "reserved-marking",
   "metadata": {},
   "outputs": [
    {
     "data": {
      "text/plain": [
       "(numpy.ndarray, numpy.ndarray)"
      ]
     },
     "execution_count": 116,
     "metadata": {},
     "output_type": "execute_result"
    }
   ],
   "source": [
    "type(y), type(X)"
   ]
  },
  {
   "cell_type": "markdown",
   "id": "breathing-stock",
   "metadata": {},
   "source": [
    "### Split to test and train"
   ]
  },
  {
   "cell_type": "code",
   "execution_count": 117,
   "id": "possible-upgrade",
   "metadata": {},
   "outputs": [],
   "source": [
    "from sklearn.model_selection import train_test_split\n",
    "X_train, X_test, y_train, y_test = train_test_split(X, y, test_size = 0.2, random_state = 1)"
   ]
  },
  {
   "cell_type": "code",
   "execution_count": 118,
   "id": "rotary-auckland",
   "metadata": {},
   "outputs": [
    {
     "data": {
      "text/plain": [
       "((215, 6), (215,))"
      ]
     },
     "execution_count": 118,
     "metadata": {},
     "output_type": "execute_result"
    }
   ],
   "source": [
    "X_train.shape, y_train.shape"
   ]
  },
  {
   "cell_type": "code",
   "execution_count": 119,
   "id": "mounted-mexican",
   "metadata": {},
   "outputs": [
    {
     "data": {
      "text/plain": [
       "((54, 6), (54,))"
      ]
     },
     "execution_count": 119,
     "metadata": {},
     "output_type": "execute_result"
    }
   ],
   "source": [
    "X_test.shape, y_test.shape"
   ]
  },
  {
   "cell_type": "markdown",
   "id": "explicit-subdivision",
   "metadata": {},
   "source": [
    "### Building and training the neural network"
   ]
  },
  {
   "cell_type": "code",
   "execution_count": 120,
   "id": "french-yellow",
   "metadata": {},
   "outputs": [],
   "source": [
    "import tensorflow as tf\n",
    "from tensorflow import keras"
   ]
  },
  {
   "cell_type": "code",
   "execution_count": 121,
   "id": "considered-minister",
   "metadata": {},
   "outputs": [],
   "source": [
    "network2 = tf.keras.models.Sequential()\n",
    "network2.add(tf.keras.layers.Dense(input_shape = (6, ), units = 4, activation='relu'))\n",
    "network2.add(tf.keras.layers.Dense(units=4, activation='relu'))\n",
    "network2.add(tf.keras.layers.Dense(units=4, activation='relu'))\n",
    "network2.add(tf.keras.layers.Dense(units=1, activation='sigmoid'))"
   ]
  },
  {
   "cell_type": "code",
   "execution_count": 122,
   "id": "apparent-involvement",
   "metadata": {},
   "outputs": [
    {
     "name": "stdout",
     "output_type": "stream",
     "text": [
      "Model: \"sequential_1\"\n",
      "_________________________________________________________________\n",
      "Layer (type)                 Output Shape              Param #   \n",
      "=================================================================\n",
      "dense_4 (Dense)              (None, 4)                 28        \n",
      "_________________________________________________________________\n",
      "dense_5 (Dense)              (None, 4)                 20        \n",
      "_________________________________________________________________\n",
      "dense_6 (Dense)              (None, 4)                 20        \n",
      "_________________________________________________________________\n",
      "dense_7 (Dense)              (None, 1)                 5         \n",
      "=================================================================\n",
      "Total params: 73\n",
      "Trainable params: 73\n",
      "Non-trainable params: 0\n",
      "_________________________________________________________________\n"
     ]
    }
   ],
   "source": [
    "network2.summary()"
   ]
  },
  {
   "cell_type": "code",
   "execution_count": 123,
   "id": "applied-clearance",
   "metadata": {},
   "outputs": [],
   "source": [
    "network2.compile(optimizer='Adam', loss='binary_crossentropy', metrics=['accuracy'])"
   ]
  },
  {
   "cell_type": "code",
   "execution_count": 124,
   "id": "orange-flight",
   "metadata": {},
   "outputs": [
    {
     "name": "stdout",
     "output_type": "stream",
     "text": [
      "Epoch 1/50\n",
      "7/7 [==============================] - 1s 2ms/step - loss: 0.7606 - accuracy: 0.4558\n",
      "Epoch 2/50\n",
      "7/7 [==============================] - 0s 2ms/step - loss: 0.7227 - accuracy: 0.6140\n",
      "Epoch 3/50\n",
      "7/7 [==============================] - 0s 2ms/step - loss: 0.6974 - accuracy: 0.6140\n",
      "Epoch 4/50\n",
      "7/7 [==============================] - 0s 2ms/step - loss: 0.6788 - accuracy: 0.6140\n",
      "Epoch 5/50\n",
      "7/7 [==============================] - 0s 2ms/step - loss: 0.6620 - accuracy: 0.6140\n",
      "Epoch 6/50\n",
      "7/7 [==============================] - 0s 2ms/step - loss: 0.6457 - accuracy: 0.6140\n",
      "Epoch 7/50\n",
      "7/7 [==============================] - 0s 2ms/step - loss: 0.6311 - accuracy: 0.6140\n",
      "Epoch 8/50\n",
      "7/7 [==============================] - 0s 2ms/step - loss: 0.6162 - accuracy: 0.6140\n",
      "Epoch 9/50\n",
      "7/7 [==============================] - 0s 2ms/step - loss: 0.6022 - accuracy: 0.6140\n",
      "Epoch 10/50\n",
      "7/7 [==============================] - 0s 2ms/step - loss: 0.5888 - accuracy: 0.6140\n",
      "Epoch 11/50\n",
      "7/7 [==============================] - 0s 2ms/step - loss: 0.5761 - accuracy: 0.6140\n",
      "Epoch 12/50\n",
      "7/7 [==============================] - 0s 2ms/step - loss: 0.5640 - accuracy: 0.6140\n",
      "Epoch 13/50\n",
      "7/7 [==============================] - 0s 2ms/step - loss: 0.5522 - accuracy: 0.6140\n",
      "Epoch 14/50\n",
      "7/7 [==============================] - 0s 2ms/step - loss: 0.5409 - accuracy: 0.6140\n",
      "Epoch 15/50\n",
      "7/7 [==============================] - 0s 2ms/step - loss: 0.5303 - accuracy: 0.6140\n",
      "Epoch 16/50\n",
      "7/7 [==============================] - 0s 2ms/step - loss: 0.5198 - accuracy: 0.6140\n",
      "Epoch 17/50\n",
      "7/7 [==============================] - 0s 1ms/step - loss: 0.5097 - accuracy: 0.6140\n",
      "Epoch 18/50\n",
      "7/7 [==============================] - 0s 1ms/step - loss: 0.4997 - accuracy: 0.6140\n",
      "Epoch 19/50\n",
      "7/7 [==============================] - 0s 1ms/step - loss: 0.4903 - accuracy: 0.6140\n",
      "Epoch 20/50\n",
      "7/7 [==============================] - 0s 2ms/step - loss: 0.4816 - accuracy: 0.6186\n",
      "Epoch 21/50\n",
      "7/7 [==============================] - 0s 2ms/step - loss: 0.4725 - accuracy: 0.6279\n",
      "Epoch 22/50\n",
      "7/7 [==============================] - 0s 1ms/step - loss: 0.4642 - accuracy: 0.6419\n",
      "Epoch 23/50\n",
      "7/7 [==============================] - 0s 2ms/step - loss: 0.4559 - accuracy: 0.6698\n",
      "Epoch 24/50\n",
      "7/7 [==============================] - 0s 2ms/step - loss: 0.4471 - accuracy: 0.7116\n",
      "Epoch 25/50\n",
      "7/7 [==============================] - 0s 2ms/step - loss: 0.4392 - accuracy: 0.7581\n",
      "Epoch 26/50\n",
      "7/7 [==============================] - 0s 2ms/step - loss: 0.4313 - accuracy: 0.8279\n",
      "Epoch 27/50\n",
      "7/7 [==============================] - 0s 1ms/step - loss: 0.4238 - accuracy: 0.8419\n",
      "Epoch 28/50\n",
      "7/7 [==============================] - 0s 2ms/step - loss: 0.4166 - accuracy: 0.8419\n",
      "Epoch 29/50\n",
      "7/7 [==============================] - 0s 2ms/step - loss: 0.4099 - accuracy: 0.8419\n",
      "Epoch 30/50\n",
      "7/7 [==============================] - 0s 2ms/step - loss: 0.4039 - accuracy: 0.8419\n",
      "Epoch 31/50\n",
      "7/7 [==============================] - 0s 1ms/step - loss: 0.3973 - accuracy: 0.8419\n",
      "Epoch 32/50\n",
      "7/7 [==============================] - 0s 2ms/step - loss: 0.3900 - accuracy: 0.8465\n",
      "Epoch 33/50\n",
      "7/7 [==============================] - 0s 2ms/step - loss: 0.3825 - accuracy: 0.8372\n",
      "Epoch 34/50\n",
      "7/7 [==============================] - 0s 2ms/step - loss: 0.3761 - accuracy: 0.8372\n",
      "Epoch 35/50\n",
      "7/7 [==============================] - 0s 2ms/step - loss: 0.3697 - accuracy: 0.8372\n",
      "Epoch 36/50\n",
      "7/7 [==============================] - 0s 2ms/step - loss: 0.3632 - accuracy: 0.8372\n",
      "Epoch 37/50\n",
      "7/7 [==============================] - 0s 1ms/step - loss: 0.3577 - accuracy: 0.8419\n",
      "Epoch 38/50\n",
      "7/7 [==============================] - 0s 1ms/step - loss: 0.3518 - accuracy: 0.8372\n",
      "Epoch 39/50\n",
      "7/7 [==============================] - 0s 2ms/step - loss: 0.3467 - accuracy: 0.8372\n",
      "Epoch 40/50\n",
      "7/7 [==============================] - 0s 2ms/step - loss: 0.3416 - accuracy: 0.8372\n",
      "Epoch 41/50\n",
      "7/7 [==============================] - 0s 2ms/step - loss: 0.3367 - accuracy: 0.8372\n",
      "Epoch 42/50\n",
      "7/7 [==============================] - 0s 2ms/step - loss: 0.3321 - accuracy: 0.8372\n",
      "Epoch 43/50\n",
      "7/7 [==============================] - 0s 2ms/step - loss: 0.3281 - accuracy: 0.8419\n",
      "Epoch 44/50\n",
      "7/7 [==============================] - 0s 2ms/step - loss: 0.3239 - accuracy: 0.8419\n",
      "Epoch 45/50\n",
      "7/7 [==============================] - 0s 2ms/step - loss: 0.3205 - accuracy: 0.8419\n",
      "Epoch 46/50\n",
      "7/7 [==============================] - 0s 1ms/step - loss: 0.3172 - accuracy: 0.8419\n",
      "Epoch 47/50\n",
      "7/7 [==============================] - 0s 1ms/step - loss: 0.3140 - accuracy: 0.8465\n",
      "Epoch 48/50\n",
      "7/7 [==============================] - 0s 2ms/step - loss: 0.3111 - accuracy: 0.8512\n",
      "Epoch 49/50\n",
      "7/7 [==============================] - 0s 2ms/step - loss: 0.3083 - accuracy: 0.8512\n",
      "Epoch 50/50\n",
      "7/7 [==============================] - 0s 2ms/step - loss: 0.3058 - accuracy: 0.8512\n"
     ]
    }
   ],
   "source": [
    "history = network2.fit(X_train, y_train, epochs=50)"
   ]
  },
  {
   "cell_type": "markdown",
   "id": "continuous-arthur",
   "metadata": {},
   "source": [
    "### Evaluation"
   ]
  },
  {
   "cell_type": "code",
   "execution_count": 125,
   "id": "known-consumption",
   "metadata": {},
   "outputs": [
    {
     "data": {
      "text/plain": [
       "dict_keys(['loss', 'accuracy'])"
      ]
     },
     "execution_count": 125,
     "metadata": {},
     "output_type": "execute_result"
    }
   ],
   "source": [
    "history.history.keys()"
   ]
  },
  {
   "cell_type": "code",
   "execution_count": 126,
   "id": "grateful-coordinator",
   "metadata": {},
   "outputs": [
    {
     "data": {
      "image/png": "[encoded data removed]",
      "text/plain": [
       "<Figure size 432x288 with 1 Axes>"
      ]
     },
     "metadata": {
      "needs_background": "light"
     },
     "output_type": "display_data"
    }
   ],
   "source": [
    "plt.plot(history.history['loss']);"
   ]
  },
  {
   "cell_type": "code",
   "execution_count": 127,
   "id": "material-cedar",
   "metadata": {},
   "outputs": [
    {
     "data": {
      "image/png": "[encoded data removed]",
      "text/plain": [
       "<Figure size 432x288 with 1 Axes>"
      ]
     },
     "metadata": {
      "needs_background": "light"
     },
     "output_type": "display_data"
    }
   ],
   "source": [
    "plt.plot(history.history['accuracy']);"
   ]
  },
  {
   "cell_type": "code",
   "execution_count": 128,
   "id": "known-membership",
   "metadata": {},
   "outputs": [
    {
     "data": {
      "text/plain": [
       "(54, 6)"
      ]
     },
     "execution_count": 128,
     "metadata": {},
     "output_type": "execute_result"
    }
   ],
   "source": [
    "X_test.shape"
   ]
  },
  {
   "cell_type": "code",
   "execution_count": 129,
   "id": "listed-knowing",
   "metadata": {},
   "outputs": [
    {
     "data": {
      "text/plain": [
       "array([[1.7607212e-03],\n",
       "       [7.3818165e-01],\n",
       "       [1.6994771e-01],\n",
       "       [5.7897186e-01],\n",
       "       [8.8217646e-02],\n",
       "       [7.5489902e-01],\n",
       "       [3.7858001e-05],\n",
       "       [1.0532835e-01],\n",
       "       [3.9179653e-02],\n",
       "       [4.8073858e-02],\n",
       "       [2.8255779e-01],\n",
       "       [9.6037745e-01],\n",
       "       [6.3119823e-01],\n",
       "       [1.4881194e-03],\n",
       "       [5.7767206e-01],\n",
       "       [9.4721520e-01],\n",
       "       [5.8527988e-01],\n",
       "       [8.6766154e-01],\n",
       "       [5.7144320e-01],\n",
       "       [1.8239409e-01],\n",
       "       [8.4093350e-05],\n",
       "       [9.0084827e-01],\n",
       "       [6.3244104e-01],\n",
       "       [8.1193149e-03],\n",
       "       [1.2993813e-04],\n",
       "       [9.2274487e-01],\n",
       "       [5.8874297e-01],\n",
       "       [1.1281270e-01],\n",
       "       [7.9236156e-01],\n",
       "       [9.4974464e-01],\n",
       "       [6.3244104e-01],\n",
       "       [9.8864669e-01],\n",
       "       [9.2909122e-01],\n",
       "       [5.9114248e-01],\n",
       "       [9.7954810e-01],\n",
       "       [6.3244104e-01],\n",
       "       [4.1298777e-02],\n",
       "       [3.6465675e-02],\n",
       "       [5.7825309e-01],\n",
       "       [1.8650246e-01],\n",
       "       [6.3244104e-01],\n",
       "       [5.7818431e-01],\n",
       "       [2.3806095e-02],\n",
       "       [1.2187898e-02],\n",
       "       [6.1415136e-03],\n",
       "       [9.2349970e-01],\n",
       "       [6.2022215e-01],\n",
       "       [5.8144504e-01],\n",
       "       [2.8737783e-03],\n",
       "       [5.9995258e-01],\n",
       "       [1.1193931e-02],\n",
       "       [6.3244104e-01],\n",
       "       [8.4654212e-01],\n",
       "       [8.1511086e-01]], dtype=float32)"
      ]
     },
     "execution_count": 129,
     "metadata": {},
     "output_type": "execute_result"
    }
   ],
   "source": [
    "predictions = network2.predict(X_test)\n",
    "predictions\n",
    "\n",
    "# 0 is Bart, 1 is Homer"
   ]
  },
  {
   "cell_type": "markdown",
   "id": "instructional-crest",
   "metadata": {},
   "source": [
    "### Define the threshold to convert the probabilities into classes"
   ]
  },
  {
   "cell_type": "code",
   "execution_count": 130,
   "id": "upper-gambling",
   "metadata": {},
   "outputs": [
    {
     "data": {
      "text/plain": [
       "array([[False],\n",
       "       [ True],\n",
       "       [False],\n",
       "       [ True],\n",
       "       [False],\n",
       "       [ True],\n",
       "       [False],\n",
       "       [False],\n",
       "       [False],\n",
       "       [False]])"
      ]
     },
     "execution_count": 130,
     "metadata": {},
     "output_type": "execute_result"
    }
   ],
   "source": [
    "predictions = (predictions > 0.5)\n",
    "predictions[:10]"
   ]
  },
  {
   "cell_type": "markdown",
   "id": "physical-renaissance",
   "metadata": {},
   "source": [
    "### Compare the results to the expected values"
   ]
  },
  {
   "cell_type": "code",
   "execution_count": 131,
   "id": "atlantic-integral",
   "metadata": {},
   "outputs": [
    {
     "data": {
      "text/plain": [
       "array([0, 1, 0, 0, 0, 1, 0, 0, 0, 0])"
      ]
     },
     "execution_count": 131,
     "metadata": {},
     "output_type": "execute_result"
    }
   ],
   "source": [
    "y_test[:10]"
   ]
  },
  {
   "cell_type": "code",
   "execution_count": 132,
   "id": "pressing-bibliography",
   "metadata": {},
   "outputs": [
    {
     "data": {
      "text/plain": [
       "0.8888888888888888"
      ]
     },
     "execution_count": 132,
     "metadata": {},
     "output_type": "execute_result"
    }
   ],
   "source": [
    "from sklearn.metrics import accuracy_score\n",
    "accuracy_score(y_test, predictions)"
   ]
  },
  {
   "cell_type": "code",
   "execution_count": 133,
   "id": "wound-arcade",
   "metadata": {},
   "outputs": [
    {
     "data": {
      "text/plain": [
       "array([[22,  6],\n",
       "       [ 0, 26]])"
      ]
     },
     "execution_count": 133,
     "metadata": {},
     "output_type": "execute_result"
    }
   ],
   "source": [
    "from sklearn.metrics import confusion_matrix\n",
    "cm = confusion_matrix(y_test, predictions, labels=[0,1])\n",
    "cm"
   ]
  },
  {
   "cell_type": "code",
   "execution_count": 134,
   "id": "honest-edition",
   "metadata": {},
   "outputs": [
    {
     "data": {
      "image/png": "[encoded data removed]",
      "text/plain": [
       "<Figure size 432x288 with 2 Axes>"
      ]
     },
     "metadata": {
      "needs_background": "light"
     },
     "output_type": "display_data"
    }
   ],
   "source": [
    "sns.heatmap(cm, annot=True);"
   ]
  },
  {
   "cell_type": "code",
   "execution_count": 135,
   "id": "acquired-syndication",
   "metadata": {},
   "outputs": [
    {
     "name": "stdout",
     "output_type": "stream",
     "text": [
      "              precision    recall  f1-score   support\n",
      "\n",
      "           0       1.00      0.79      0.88        28\n",
      "           1       0.81      1.00      0.90        26\n",
      "\n",
      "    accuracy                           0.89        54\n",
      "   macro avg       0.91      0.89      0.89        54\n",
      "weighted avg       0.91      0.89      0.89        54\n",
      "\n"
     ]
    }
   ],
   "source": [
    "from sklearn.metrics import classification_report\n",
    "print(classification_report(y_test, predictions))"
   ]
  },
  {
   "cell_type": "markdown",
   "id": "intense-stanford",
   "metadata": {},
   "source": [
    "### Saving and loading the network"
   ]
  },
  {
   "cell_type": "code",
   "execution_count": 136,
   "id": "social-seeking",
   "metadata": {},
   "outputs": [],
   "source": [
    "model_json = network2.to_json()\n",
    "with open('network2.json', 'w') as json_file:\n",
    "    json_file.write(model_json)"
   ]
  },
  {
   "cell_type": "code",
   "execution_count": 137,
   "id": "auburn-dutch",
   "metadata": {},
   "outputs": [],
   "source": [
    "from keras.models import save_model\n",
    "network2_saved = save_model(network2, 'weights2.hdf5')"
   ]
  },
  {
   "cell_type": "code",
   "execution_count": 138,
   "id": "athletic-tours",
   "metadata": {},
   "outputs": [
    {
     "data": {
      "text/plain": [
       "'{\"class_name\": \"Sequential\", \"config\": {\"name\": \"sequential_1\", \"layers\": [{\"class_name\": \"InputLayer\", \"config\": {\"batch_input_shape\": [null, 6], \"dtype\": \"float32\", \"sparse\": false, \"ragged\": false, \"name\": \"dense_4_input\"}}, {\"class_name\": \"Dense\", \"config\": {\"name\": \"dense_4\", \"trainable\": true, \"batch_input_shape\": [null, 6], \"dtype\": \"float32\", \"units\": 4, \"activation\": \"relu\", \"use_bias\": true, \"kernel_initializer\": {\"class_name\": \"GlorotUniform\", \"config\": {\"seed\": null}}, \"bias_initializer\": {\"class_name\": \"Zeros\", \"config\": {}}, \"kernel_regularizer\": null, \"bias_regularizer\": null, \"activity_regularizer\": null, \"kernel_constraint\": null, \"bias_constraint\": null}}, {\"class_name\": \"Dense\", \"config\": {\"name\": \"dense_5\", \"trainable\": true, \"dtype\": \"float32\", \"units\": 4, \"activation\": \"relu\", \"use_bias\": true, \"kernel_initializer\": {\"class_name\": \"GlorotUniform\", \"config\": {\"seed\": null}}, \"bias_initializer\": {\"class_name\": \"Zeros\", \"config\": {}}, \"kernel_regularizer\": null, \"bias_regularizer\": null, \"activity_regularizer\": null, \"kernel_constraint\": null, \"bias_constraint\": null}}, {\"class_name\": \"Dense\", \"config\": {\"name\": \"dense_6\", \"trainable\": true, \"dtype\": \"float32\", \"units\": 4, \"activation\": \"relu\", \"use_bias\": true, \"kernel_initializer\": {\"class_name\": \"GlorotUniform\", \"config\": {\"seed\": null}}, \"bias_initializer\": {\"class_name\": \"Zeros\", \"config\": {}}, \"kernel_regularizer\": null, \"bias_regularizer\": null, \"activity_regularizer\": null, \"kernel_constraint\": null, \"bias_constraint\": null}}, {\"class_name\": \"Dense\", \"config\": {\"name\": \"dense_7\", \"trainable\": true, \"dtype\": \"float32\", \"units\": 1, \"activation\": \"sigmoid\", \"use_bias\": true, \"kernel_initializer\": {\"class_name\": \"GlorotUniform\", \"config\": {\"seed\": null}}, \"bias_initializer\": {\"class_name\": \"Zeros\", \"config\": {}}, \"kernel_regularizer\": null, \"bias_regularizer\": null, \"activity_regularizer\": null, \"kernel_constraint\": null, \"bias_constraint\": null}}]}, \"keras_version\": \"2.5.0\", \"backend\": \"tensorflow\"}'"
      ]
     },
     "execution_count": 138,
     "metadata": {},
     "output_type": "execute_result"
    }
   ],
   "source": [
    "with open('network2.json') as json_file:\n",
    "    json_saved_model = json_file.read()\n",
    "json_saved_model"
   ]
  },
  {
   "cell_type": "code",
   "execution_count": 139,
   "id": "unknown-blake",
   "metadata": {},
   "outputs": [],
   "source": [
    "network2_loaded = tf.keras.models.model_from_json(json_saved_model)\n",
    "network2_loaded.load_weights('weights2.hdf5')\n",
    "network2_loaded.compile(loss = 'binary_crossentropy', optimizer = 'Adam', metrics = ['accuracy'])"
   ]
  },
  {
   "cell_type": "code",
   "execution_count": 140,
   "id": "pressing-analysis",
   "metadata": {},
   "outputs": [
    {
     "name": "stdout",
     "output_type": "stream",
     "text": [
      "Model: \"sequential_1\"\n",
      "_________________________________________________________________\n",
      "Layer (type)                 Output Shape              Param #   \n",
      "=================================================================\n",
      "dense_4 (Dense)              (None, 4)                 28        \n",
      "_________________________________________________________________\n",
      "dense_5 (Dense)              (None, 4)                 20        \n",
      "_________________________________________________________________\n",
      "dense_6 (Dense)              (None, 4)                 20        \n",
      "_________________________________________________________________\n",
      "dense_7 (Dense)              (None, 1)                 5         \n",
      "=================================================================\n",
      "Total params: 73\n",
      "Trainable params: 73\n",
      "Non-trainable params: 0\n",
      "_________________________________________________________________\n"
     ]
    }
   ],
   "source": [
    "network2_loaded.summary()"
   ]
  },
  {
   "cell_type": "markdown",
   "id": "skilled-subscriber",
   "metadata": {},
   "source": [
    "### Classify a single image"
   ]
  },
  {
   "cell_type": "code",
   "execution_count": 141,
   "id": "extra-beauty",
   "metadata": {},
   "outputs": [
    {
     "data": {
      "text/plain": [
       "array([3.07645000e-03, 0.00000000e+00, 0.00000000e+00, 6.49515459e+00,\n",
       "       5.59913859e+00, 5.59913859e+00])"
      ]
     },
     "execution_count": 141,
     "metadata": {},
     "output_type": "execute_result"
    }
   ],
   "source": [
    "test_image = X_test[0]\n",
    "test_image"
   ]
  },
  {
   "cell_type": "code",
   "execution_count": 142,
   "id": "driving-stranger",
   "metadata": {},
   "outputs": [
    {
     "data": {
      "text/plain": [
       "(6,)"
      ]
     },
     "execution_count": 142,
     "metadata": {},
     "output_type": "execute_result"
    }
   ],
   "source": [
    "test_image.shape"
   ]
  },
  {
   "cell_type": "code",
   "execution_count": 144,
   "id": "buried-tournament",
   "metadata": {},
   "outputs": [
    {
     "data": {
      "text/plain": [
       "(1, 6)"
      ]
     },
     "execution_count": 144,
     "metadata": {},
     "output_type": "execute_result"
    }
   ],
   "source": [
    "test_image = test_image.reshape(1, -1)\n",
    "test_image.shape"
   ]
  },
  {
   "cell_type": "code",
   "execution_count": 145,
   "id": "sealed-person",
   "metadata": {},
   "outputs": [
    {
     "data": {
      "text/plain": [
       "0.0017607212"
      ]
     },
     "execution_count": 145,
     "metadata": {},
     "output_type": "execute_result"
    }
   ],
   "source": [
    "network2_loaded.predict(test_image)[0][0]"
   ]
  },
  {
   "cell_type": "code",
   "execution_count": 146,
   "id": "greater-toronto",
   "metadata": {},
   "outputs": [
    {
     "name": "stdout",
     "output_type": "stream",
     "text": [
      "Bart\n"
     ]
    }
   ],
   "source": [
    "if network2_loaded.predict(test_image)[0][0] < 0.5:\n",
    "    print('Bart')\n",
    "else:\n",
    "    print('Homer')"
   ]
  },
  {
   "cell_type": "code",
   "execution_count": null,
   "id": "established-remains",
   "metadata": {},
   "outputs": [],
   "source": []
  }
 ],
 "metadata": {
  "kernelspec": {
   "display_name": "Python 3",
   "language": "python",
   "name": "python3"
  },
  "language_info": {
   "codemirror_mode": {
    "name": "ipython",
    "version": 3
   },
   "file_extension": ".py",
   "mimetype": "text/x-python",
   "name": "python",
   "nbconvert_exporter": "python",
   "pygments_lexer": "ipython3",
   "version": "3.7.4"
  }
 },
 "nbformat": 4,
 "nbformat_minor": 5
}
