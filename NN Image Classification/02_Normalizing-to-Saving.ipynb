{
 "cells": [
  {
   "cell_type": "code",
   "execution_count": 1,
   "id": "compliant-fairy",
   "metadata": {},
   "outputs": [
    {
     "data": {
      "text/plain": [
       "'2.5.0'"
      ]
     },
     "execution_count": 1,
     "metadata": {},
     "output_type": "execute_result"
    }
   ],
   "source": [
    "import os\n",
    "import cv2\n",
    "import numpy as np\n",
    "import pandas as pd\n",
    "import matplotlib.pyplot as plt\n",
    "import seaborn as sns\n",
    "import zipfile\n",
    "import tensorflow as tf\n",
    "tf.__version__\n"
   ]
  },
  {
   "cell_type": "code",
   "execution_count": 2,
   "id": "violent-enterprise",
   "metadata": {},
   "outputs": [],
   "source": [
    "# cv2.imshow('image-resized window', image)\n",
    "# cv2.waitKey(0)\n",
    "# cv2.destroyAllWindows()\n",
    "# cv2.waitKey(1)"
   ]
  },
  {
   "cell_type": "markdown",
   "id": "turned-survival",
   "metadata": {},
   "source": [
    "### From previous file 01"
   ]
  },
  {
   "cell_type": "code",
   "execution_count": 2,
   "id": "later-basement",
   "metadata": {},
   "outputs": [],
   "source": [
    "directory = 'homer_bart_1'\n",
    "files = [os.path.join(directory, f) for f in sorted(os.listdir(directory))]\n",
    "\n",
    "height, width = 128, 128\n",
    "\n",
    "images = []\n",
    "classes = []\n",
    "\n",
    "for image_path in files:\n",
    "    #print(image_path)\n",
    "    try:\n",
    "        image = cv2.imread(image_path)\n",
    "        (H, W) = image.shape[:2]\n",
    "    except: \n",
    "        continue\n",
    "        \n",
    "    image = cv2.resize(image, (width, height))\n",
    "    image = cv2.cvtColor(image, cv2.COLOR_BGR2GRAY)\n",
    "    # Use `ravel()` to flatten the array\n",
    "    image = image.ravel()\n",
    "    \n",
    "    images.append(image)\n",
    "    \n",
    "    \n",
    "    image_name = os.path.basename(os.path.normpath(image_path))\n",
    "    \n",
    "    if image_name.startswith('b'):\n",
    "        class_name = 0\n",
    "    else:\n",
    "        class_name = 1\n",
    "    classes.append(class_name)\n",
    "    "
   ]
  },
  {
   "cell_type": "code",
   "execution_count": 3,
   "id": "superior-excellence",
   "metadata": {},
   "outputs": [],
   "source": [
    "X = np.asarray(images)\n",
    "y = np.asarray(classes)"
   ]
  },
  {
   "cell_type": "code",
   "execution_count": 4,
   "id": "baking-quarterly",
   "metadata": {},
   "outputs": [
    {
     "data": {
      "text/plain": [
       "(array([0, 1]), array([160, 109]))"
      ]
     },
     "execution_count": 4,
     "metadata": {},
     "output_type": "execute_result"
    }
   ],
   "source": [
    "np.unique(y, return_counts=True)"
   ]
  },
  {
   "cell_type": "markdown",
   "id": "devoted-conversion",
   "metadata": {},
   "source": [
    "## Normalizing data"
   ]
  },
  {
   "cell_type": "code",
   "execution_count": 5,
   "id": "swiss-departure",
   "metadata": {},
   "outputs": [
    {
     "data": {
      "text/plain": [
       "(0, 255)"
      ]
     },
     "execution_count": 5,
     "metadata": {},
     "output_type": "execute_result"
    }
   ],
   "source": [
    "X[0].min(), X[0].max() "
   ]
  },
  {
   "cell_type": "code",
   "execution_count": 6,
   "id": "southern-yesterday",
   "metadata": {},
   "outputs": [],
   "source": [
    "from sklearn.preprocessing import MinMaxScaler\n",
    "scaler = MinMaxScaler()\n",
    "X = scaler.fit_transform(X)"
   ]
  },
  {
   "cell_type": "code",
   "execution_count": 7,
   "id": "manual-popularity",
   "metadata": {},
   "outputs": [
    {
     "data": {
      "text/plain": [
       "(1.0000000000000002, 0.0)"
      ]
     },
     "execution_count": 7,
     "metadata": {},
     "output_type": "execute_result"
    }
   ],
   "source": [
    "X[0].max(), X[0].min()"
   ]
  },
  {
   "cell_type": "markdown",
   "id": "medical-celtic",
   "metadata": {},
   "source": [
    "## Train and Test"
   ]
  },
  {
   "cell_type": "code",
   "execution_count": 8,
   "id": "thorough-carroll",
   "metadata": {},
   "outputs": [],
   "source": [
    "from sklearn.model_selection import train_test_split"
   ]
  },
  {
   "cell_type": "code",
   "execution_count": 9,
   "id": "registered-trouble",
   "metadata": {},
   "outputs": [],
   "source": [
    "X_train, X_test, y_train, y_test = train_test_split(X, y, test_size = 0.2, random_state = 1)"
   ]
  },
  {
   "cell_type": "code",
   "execution_count": 10,
   "id": "clinical-cooking",
   "metadata": {},
   "outputs": [
    {
     "data": {
      "text/plain": [
       "((215, 16384), (215,))"
      ]
     },
     "execution_count": 10,
     "metadata": {},
     "output_type": "execute_result"
    }
   ],
   "source": [
    "X_train.shape, y_train.shape"
   ]
  },
  {
   "cell_type": "code",
   "execution_count": 11,
   "id": "adolescent-military",
   "metadata": {},
   "outputs": [
    {
     "data": {
      "text/plain": [
       "((54, 16384), (54,))"
      ]
     },
     "execution_count": 11,
     "metadata": {},
     "output_type": "execute_result"
    }
   ],
   "source": [
    "X_test.shape, y_test.shape"
   ]
  },
  {
   "cell_type": "markdown",
   "id": "solved-arena",
   "metadata": {},
   "source": [
    "## Building and Training the NN"
   ]
  },
  {
   "cell_type": "code",
   "execution_count": 12,
   "id": "adolescent-exploration",
   "metadata": {},
   "outputs": [],
   "source": [
    "network1 = tf.keras.models.Sequential()"
   ]
  },
  {
   "cell_type": "code",
   "execution_count": 13,
   "id": "compact-blond",
   "metadata": {},
   "outputs": [
    {
     "data": {
      "text/plain": [
       "8193.0"
      ]
     },
     "execution_count": 13,
     "metadata": {},
     "output_type": "execute_result"
    }
   ],
   "source": [
    "(16384 + 2) / 2 # Numer of units in the hidden layer"
   ]
  },
  {
   "cell_type": "code",
   "execution_count": 14,
   "id": "changing-despite",
   "metadata": {},
   "outputs": [],
   "source": [
    "network1.add(tf.keras.layers.Dense(input_shape=(16384,), units=8193, activation='relu'))\n",
    "network1.add(tf.keras.layers.Dense(units=8193, activation='relu'))\n",
    "network1.add(tf.keras.layers.Dense(units=1, activation='sigmoid'))"
   ]
  },
  {
   "cell_type": "code",
   "execution_count": 15,
   "id": "charged-ontario",
   "metadata": {},
   "outputs": [
    {
     "name": "stdout",
     "output_type": "stream",
     "text": [
      "Model: \"sequential\"\n",
      "_________________________________________________________________\n",
      "Layer (type)                 Output Shape              Param #   \n",
      "=================================================================\n",
      "dense (Dense)                (None, 8193)              134242305 \n",
      "_________________________________________________________________\n",
      "dense_1 (Dense)              (None, 8193)              67133442  \n",
      "_________________________________________________________________\n",
      "dense_2 (Dense)              (None, 1)                 8194      \n",
      "=================================================================\n",
      "Total params: 201,383,941\n",
      "Trainable params: 201,383,941\n",
      "Non-trainable params: 0\n",
      "_________________________________________________________________\n"
     ]
    }
   ],
   "source": [
    "network1.summary()"
   ]
  },
  {
   "cell_type": "code",
   "execution_count": 28,
   "id": "informational-access",
   "metadata": {},
   "outputs": [],
   "source": [
    "network1.compile(optimizer='Adam', loss='binary_crossentropy', metrics=['accuracy'])"
   ]
  },
  {
   "cell_type": "code",
   "execution_count": 29,
   "id": "large-production",
   "metadata": {},
   "outputs": [
    {
     "name": "stdout",
     "output_type": "stream",
     "text": [
      "Epoch 1/50\n",
      "7/7 [==============================] - 6s 760ms/step - loss: 0.6965 - accuracy: 0.4791\n",
      "Epoch 2/50\n",
      "7/7 [==============================] - 5s 714ms/step - loss: 0.6586 - accuracy: 0.7535\n",
      "Epoch 3/50\n",
      "7/7 [==============================] - 5s 784ms/step - loss: 0.5944 - accuracy: 0.6558\n",
      "Epoch 4/50\n",
      "7/7 [==============================] - 6s 809ms/step - loss: 0.5384 - accuracy: 0.7907\n",
      "Epoch 5/50\n",
      "7/7 [==============================] - 5s 765ms/step - loss: 0.4787 - accuracy: 0.7860\n",
      "Epoch 6/50\n",
      "7/7 [==============================] - 5s 736ms/step - loss: 0.4409 - accuracy: 0.8465\n",
      "Epoch 7/50\n",
      "7/7 [==============================] - 6s 838ms/step - loss: 0.4642 - accuracy: 0.8233\n",
      "Epoch 8/50\n",
      "7/7 [==============================] - 6s 914ms/step - loss: 0.4121 - accuracy: 0.8419\n",
      "Epoch 9/50\n",
      "7/7 [==============================] - 6s 830ms/step - loss: 0.2950 - accuracy: 0.9256\n",
      "Epoch 10/50\n",
      "7/7 [==============================] - 5s 776ms/step - loss: 0.3261 - accuracy: 0.8884\n",
      "Epoch 11/50\n",
      "7/7 [==============================] - 6s 824ms/step - loss: 0.3371 - accuracy: 0.8465\n",
      "Epoch 12/50\n",
      "7/7 [==============================] - 6s 902ms/step - loss: 0.2809 - accuracy: 0.8837\n",
      "Epoch 13/50\n",
      "7/7 [==============================] - 6s 811ms/step - loss: 0.1559 - accuracy: 0.9628\n",
      "Epoch 14/50\n",
      "7/7 [==============================] - 5s 765ms/step - loss: 0.1334 - accuracy: 0.9674\n",
      "Epoch 15/50\n",
      "7/7 [==============================] - 6s 804ms/step - loss: 0.0973 - accuracy: 0.9814\n",
      "Epoch 16/50\n",
      "7/7 [==============================] - 6s 817ms/step - loss: 0.1616 - accuracy: 0.9349\n",
      "Epoch 17/50\n",
      "7/7 [==============================] - 6s 821ms/step - loss: 0.2693 - accuracy: 0.8791\n",
      "Epoch 18/50\n",
      "7/7 [==============================] - 5s 744ms/step - loss: 0.3570 - accuracy: 0.8698\n",
      "Epoch 19/50\n",
      "7/7 [==============================] - 6s 825ms/step - loss: 0.2278 - accuracy: 0.9163\n",
      "Epoch 20/50\n",
      "7/7 [==============================] - 5s 775ms/step - loss: 0.1062 - accuracy: 0.9814\n",
      "Epoch 21/50\n",
      "7/7 [==============================] - 5s 723ms/step - loss: 0.0641 - accuracy: 0.9907\n",
      "Epoch 22/50\n",
      "7/7 [==============================] - 5s 726ms/step - loss: 0.0575 - accuracy: 0.9953\n",
      "Epoch 23/50\n",
      "7/7 [==============================] - 6s 828ms/step - loss: 0.0401 - accuracy: 1.0000\n",
      "Epoch 24/50\n",
      "7/7 [==============================] - 6s 825ms/step - loss: 0.0358 - accuracy: 0.9953\n",
      "Epoch 25/50\n",
      "7/7 [==============================] - 5s 743ms/step - loss: 0.0436 - accuracy: 0.9953\n",
      "Epoch 26/50\n",
      "7/7 [==============================] - 6s 798ms/step - loss: 0.0275 - accuracy: 0.9953\n",
      "Epoch 27/50\n",
      "7/7 [==============================] - 5s 764ms/step - loss: 0.0225 - accuracy: 1.0000\n",
      "Epoch 28/50\n",
      "7/7 [==============================] - 6s 845ms/step - loss: 0.0187 - accuracy: 1.0000\n",
      "Epoch 29/50\n",
      "7/7 [==============================] - 5s 776ms/step - loss: 0.0168 - accuracy: 1.0000\n",
      "Epoch 30/50\n",
      "7/7 [==============================] - 6s 808ms/step - loss: 0.0183 - accuracy: 1.0000\n",
      "Epoch 31/50\n",
      "7/7 [==============================] - 5s 787ms/step - loss: 0.0190 - accuracy: 0.9953\n",
      "Epoch 32/50\n",
      "7/7 [==============================] - 5s 781ms/step - loss: 0.0209 - accuracy: 0.9953\n",
      "Epoch 33/50\n",
      "7/7 [==============================] - 5s 780ms/step - loss: 0.0096 - accuracy: 1.0000\n",
      "Epoch 34/50\n",
      "7/7 [==============================] - 6s 818ms/step - loss: 0.0128 - accuracy: 1.0000\n",
      "Epoch 35/50\n",
      "7/7 [==============================] - 6s 821ms/step - loss: 0.0083 - accuracy: 1.0000\n",
      "Epoch 36/50\n",
      "7/7 [==============================] - 5s 755ms/step - loss: 0.0076 - accuracy: 1.0000\n",
      "Epoch 37/50\n",
      "7/7 [==============================] - 5s 757ms/step - loss: 0.0058 - accuracy: 1.0000\n",
      "Epoch 38/50\n",
      "7/7 [==============================] - 5s 764ms/step - loss: 0.0048 - accuracy: 1.0000\n",
      "Epoch 39/50\n",
      "7/7 [==============================] - 6s 807ms/step - loss: 0.0041 - accuracy: 1.0000\n",
      "Epoch 40/50\n",
      "7/7 [==============================] - 5s 732ms/step - loss: 0.0038 - accuracy: 1.0000\n",
      "Epoch 41/50\n",
      "7/7 [==============================] - 5s 740ms/step - loss: 0.0036 - accuracy: 1.0000\n",
      "Epoch 42/50\n",
      "7/7 [==============================] - 5s 727ms/step - loss: 0.0034 - accuracy: 1.0000\n",
      "Epoch 43/50\n",
      "7/7 [==============================] - 5s 705ms/step - loss: 0.0032 - accuracy: 1.0000\n",
      "Epoch 44/50\n",
      "7/7 [==============================] - 5s 713ms/step - loss: 0.0030 - accuracy: 1.0000\n",
      "Epoch 45/50\n",
      "7/7 [==============================] - 5s 734ms/step - loss: 0.0029 - accuracy: 1.0000\n",
      "Epoch 46/50\n",
      "7/7 [==============================] - 5s 717ms/step - loss: 0.0027 - accuracy: 1.0000\n",
      "Epoch 47/50\n",
      "7/7 [==============================] - 5s 753ms/step - loss: 0.0026 - accuracy: 1.0000\n",
      "Epoch 48/50\n",
      "7/7 [==============================] - 5s 719ms/step - loss: 0.0025 - accuracy: 1.0000\n",
      "Epoch 49/50\n",
      "7/7 [==============================] - 5s 714ms/step - loss: 0.0024 - accuracy: 1.0000\n",
      "Epoch 50/50\n",
      "7/7 [==============================] - 5s 715ms/step - loss: 0.0022 - accuracy: 1.0000\n"
     ]
    }
   ],
   "source": [
    "history = network1.fit(X_train, y_train, epochs=50)"
   ]
  },
  {
   "cell_type": "markdown",
   "id": "lonely-democrat",
   "metadata": {},
   "source": [
    "## Evaluating the NN"
   ]
  },
  {
   "cell_type": "code",
   "execution_count": 30,
   "id": "advance-patio",
   "metadata": {},
   "outputs": [
    {
     "data": {
      "text/plain": [
       "dict_keys(['loss', 'accuracy'])"
      ]
     },
     "execution_count": 30,
     "metadata": {},
     "output_type": "execute_result"
    }
   ],
   "source": [
    "history.history.keys()"
   ]
  },
  {
   "cell_type": "code",
   "execution_count": 19,
   "id": "norman-messaging",
   "metadata": {
    "jupyter": {
     "source_hidden": true
    }
   },
   "outputs": [
    {
     "data": {
      "image/png": "[encoded data removed]",
      "text/plain": [
       "<Figure size 432x288 with 1 Axes>"
      ]
     },
     "metadata": {
      "needs_background": "light"
     },
     "output_type": "display_data"
    }
   ],
   "source": [
    "plt.plot(history.history['loss']);"
   ]
  },
  {
   "cell_type": "code",
   "execution_count": 31,
   "id": "auburn-saturday",
   "metadata": {},
   "outputs": [
    {
     "data": {
      "image/png": "[encoded data removed]",
      "text/plain": [
       "<Figure size 432x288 with 1 Axes>"
      ]
     },
     "metadata": {
      "needs_background": "light"
     },
     "output_type": "display_data"
    }
   ],
   "source": [
    "plt.plot(history.history['accuracy']);"
   ]
  },
  {
   "cell_type": "code",
   "execution_count": 32,
   "id": "frozen-purple",
   "metadata": {},
   "outputs": [
    {
     "data": {
      "text/plain": [
       "(54, 16384)"
      ]
     },
     "execution_count": 32,
     "metadata": {},
     "output_type": "execute_result"
    }
   ],
   "source": [
    "X_test.shape"
   ]
  },
  {
   "cell_type": "code",
   "execution_count": 37,
   "id": "institutional-romania",
   "metadata": {},
   "outputs": [
    {
     "data": {
      "text/plain": [
       "array([[4.55617905e-04],\n",
       "       [9.95184541e-01],\n",
       "       [4.56231833e-03],\n",
       "       [1.81866884e-02],\n",
       "       [7.21885622e-01],\n",
       "       [8.04364681e-04],\n",
       "       [9.95093584e-01],\n",
       "       [9.60370302e-01],\n",
       "       [1.14554971e-01],\n",
       "       [8.83292198e-01],\n",
       "       [1.52248144e-03],\n",
       "       [9.95200336e-01],\n",
       "       [8.77891541e-01],\n",
       "       [7.34768152e-01],\n",
       "       [1.32660866e-02],\n",
       "       [1.56408548e-03],\n",
       "       [1.13554984e-01],\n",
       "       [4.32831258e-01],\n",
       "       [4.61646914e-03],\n",
       "       [4.43369150e-04],\n",
       "       [4.05825995e-05],\n",
       "       [9.06601071e-01],\n",
       "       [7.01725483e-04],\n",
       "       [8.00082088e-03],\n",
       "       [2.62492895e-03],\n",
       "       [9.76268470e-01],\n",
       "       [1.55967474e-03],\n",
       "       [1.53476000e-03],\n",
       "       [5.69325686e-03],\n",
       "       [9.63285446e-01],\n",
       "       [2.04626948e-01],\n",
       "       [9.95200336e-01],\n",
       "       [8.56234372e-01],\n",
       "       [1.15810239e-04],\n",
       "       [9.95124340e-01],\n",
       "       [1.06003881e-03],\n",
       "       [2.90663242e-01],\n",
       "       [2.77698040e-04],\n",
       "       [4.89985347e-02],\n",
       "       [2.62379646e-04],\n",
       "       [9.78791893e-01],\n",
       "       [9.57603991e-01],\n",
       "       [2.87216306e-02],\n",
       "       [4.52995300e-04],\n",
       "       [8.51184130e-04],\n",
       "       [6.86564147e-02],\n",
       "       [9.90262210e-01],\n",
       "       [2.91228294e-04],\n",
       "       [3.08293402e-02],\n",
       "       [9.95167255e-01],\n",
       "       [7.57856033e-05],\n",
       "       [8.91852975e-01],\n",
       "       [9.53274965e-01],\n",
       "       [1.32823795e-01]], dtype=float32)"
      ]
     },
     "execution_count": 37,
     "metadata": {},
     "output_type": "execute_result"
    }
   ],
   "source": [
    "predictions = network1.predict(X_test)\n",
    "predictions # It shows probablities which we have to convert into classes"
   ]
  },
  {
   "cell_type": "code",
   "execution_count": 38,
   "id": "changing-wildlife",
   "metadata": {},
   "outputs": [],
   "source": [
    "# 0 False - Bart\n",
    "# 1 True - Homer"
   ]
  },
  {
   "cell_type": "code",
   "execution_count": 39,
   "id": "advance-schema",
   "metadata": {
    "collapsed": true,
    "jupyter": {
     "outputs_hidden": true
    }
   },
   "outputs": [
    {
     "data": {
      "text/plain": [
       "array([[False],\n",
       "       [ True],\n",
       "       [False],\n",
       "       [False],\n",
       "       [ True],\n",
       "       [False],\n",
       "       [ True],\n",
       "       [ True],\n",
       "       [False],\n",
       "       [ True],\n",
       "       [False],\n",
       "       [ True],\n",
       "       [ True],\n",
       "       [ True],\n",
       "       [False],\n",
       "       [False],\n",
       "       [False],\n",
       "       [False],\n",
       "       [False],\n",
       "       [False],\n",
       "       [False],\n",
       "       [ True],\n",
       "       [False],\n",
       "       [False],\n",
       "       [False],\n",
       "       [ True],\n",
       "       [False],\n",
       "       [False],\n",
       "       [False],\n",
       "       [ True],\n",
       "       [False],\n",
       "       [ True],\n",
       "       [ True],\n",
       "       [False],\n",
       "       [ True],\n",
       "       [False],\n",
       "       [False],\n",
       "       [False],\n",
       "       [False],\n",
       "       [False],\n",
       "       [ True],\n",
       "       [ True],\n",
       "       [False],\n",
       "       [False],\n",
       "       [False],\n",
       "       [False],\n",
       "       [ True],\n",
       "       [False],\n",
       "       [False],\n",
       "       [ True],\n",
       "       [False],\n",
       "       [ True],\n",
       "       [ True],\n",
       "       [False]])"
      ]
     },
     "execution_count": 39,
     "metadata": {},
     "output_type": "execute_result"
    }
   ],
   "source": [
    "predictions = (predictions > 0.5)\n",
    "predictions"
   ]
  },
  {
   "cell_type": "code",
   "execution_count": 40,
   "id": "amateur-isolation",
   "metadata": {},
   "outputs": [
    {
     "data": {
      "text/plain": [
       "array([0, 1, 0, 0, 0, 1, 0, 0, 0, 0, 0, 1, 1, 0, 1, 1, 1, 1, 0, 0, 0, 1,\n",
       "       0, 0, 0, 1, 0, 0, 1, 1, 1, 1, 1, 1, 1, 1, 0, 0, 0, 0, 1, 1, 0, 0,\n",
       "       0, 1, 1, 0, 0, 1, 0, 1, 1, 1])"
      ]
     },
     "execution_count": 40,
     "metadata": {},
     "output_type": "execute_result"
    }
   ],
   "source": [
    "y_test # Labels to test"
   ]
  },
  {
   "cell_type": "code",
   "execution_count": 41,
   "id": "every-flooring",
   "metadata": {},
   "outputs": [
    {
     "data": {
      "text/plain": [
       "0.7037037037037037"
      ]
     },
     "execution_count": 41,
     "metadata": {},
     "output_type": "execute_result"
    }
   ],
   "source": [
    "from sklearn.metrics import accuracy_score\n",
    "accuracy_score(y_test, predictions)"
   ]
  },
  {
   "cell_type": "code",
   "execution_count": 43,
   "id": "looking-ranking",
   "metadata": {},
   "outputs": [
    {
     "data": {
      "text/plain": [
       "array([[23,  5],\n",
       "       [11, 15]])"
      ]
     },
     "execution_count": 43,
     "metadata": {},
     "output_type": "execute_result"
    }
   ],
   "source": [
    "from sklearn.metrics import confusion_matrix\n",
    "cm = confusion_matrix(y_test, predictibbons)\n",
    "cm"
   ]
  },
  {
   "cell_type": "code",
   "execution_count": 44,
   "id": "complimentary-bouquet",
   "metadata": {},
   "outputs": [
    {
     "data": {
      "text/plain": [
       "<AxesSubplot:>"
      ]
     },
     "execution_count": 44,
     "metadata": {},
     "output_type": "execute_result"
    },
    {
     "data": {
      "image/png": "[encoded data removed]",
      "text/plain": [
       "<Figure size 432x288 with 2 Axes>"
      ]
     },
     "metadata": {
      "needs_background": "light"
     },
     "output_type": "display_data"
    }
   ],
   "source": [
    "sns.heatmap(cm, annot=True)"
   ]
  },
  {
   "cell_type": "code",
   "execution_count": 46,
   "id": "wired-netherlands",
   "metadata": {},
   "outputs": [
    {
     "name": "stdout",
     "output_type": "stream",
     "text": [
      "              precision    recall  f1-score   support\n",
      "\n",
      "           0       0.68      0.82      0.74        28\n",
      "           1       0.75      0.58      0.65        26\n",
      "\n",
      "    accuracy                           0.70        54\n",
      "   macro avg       0.71      0.70      0.70        54\n",
      "weighted avg       0.71      0.70      0.70        54\n",
      "\n"
     ]
    }
   ],
   "source": [
    "from sklearn.metrics import classification_report\n",
    "print(classification_report(y_test, predictions))"
   ]
  },
  {
   "cell_type": "markdown",
   "id": "warming-output",
   "metadata": {},
   "source": [
    "## Saving and Loading the NN"
   ]
  },
  {
   "cell_type": "code",
   "execution_count": 48,
   "id": "broken-productivity",
   "metadata": {},
   "outputs": [],
   "source": [
    "# # Save\n",
    "# model_json = network1.to_json()\n",
    "# with open('network1.json', 'w') as json_file:\n",
    "#     json_file.write(model_json)"
   ]
  },
  {
   "cell_type": "code",
   "execution_count": 49,
   "id": "constant-frequency",
   "metadata": {},
   "outputs": [],
   "source": [
    "## from keras.models import save_model\n",
    "# network1_saved = save_model(network1, 'weights1.hdf5')"
   ]
  },
  {
   "cell_type": "code",
   "execution_count": 50,
   "id": "specific-change",
   "metadata": {},
   "outputs": [
    {
     "data": {
      "text/plain": [
       "'{\"class_name\": \"Sequential\", \"config\": {\"name\": \"sequential\", \"layers\": [{\"class_name\": \"InputLayer\", \"config\": {\"batch_input_shape\": [null, 16384], \"dtype\": \"float32\", \"sparse\": false, \"ragged\": false, \"name\": \"dense_input\"}}, {\"class_name\": \"Dense\", \"config\": {\"name\": \"dense\", \"trainable\": true, \"batch_input_shape\": [null, 16384], \"dtype\": \"float32\", \"units\": 8193, \"activation\": \"relu\", \"use_bias\": true, \"kernel_initializer\": {\"class_name\": \"GlorotUniform\", \"config\": {\"seed\": null}}, \"bias_initializer\": {\"class_name\": \"Zeros\", \"config\": {}}, \"kernel_regularizer\": null, \"bias_regularizer\": null, \"activity_regularizer\": null, \"kernel_constraint\": null, \"bias_constraint\": null}}, {\"class_name\": \"Dense\", \"config\": {\"name\": \"dense_1\", \"trainable\": true, \"dtype\": \"float32\", \"units\": 8193, \"activation\": \"relu\", \"use_bias\": true, \"kernel_initializer\": {\"class_name\": \"GlorotUniform\", \"config\": {\"seed\": null}}, \"bias_initializer\": {\"class_name\": \"Zeros\", \"config\": {}}, \"kernel_regularizer\": null, \"bias_regularizer\": null, \"activity_regularizer\": null, \"kernel_constraint\": null, \"bias_constraint\": null}}, {\"class_name\": \"Dense\", \"config\": {\"name\": \"dense_2\", \"trainable\": true, \"dtype\": \"float32\", \"units\": 1, \"activation\": \"sigmoid\", \"use_bias\": true, \"kernel_initializer\": {\"class_name\": \"GlorotUniform\", \"config\": {\"seed\": null}}, \"bias_initializer\": {\"class_name\": \"Zeros\", \"config\": {}}, \"kernel_regularizer\": null, \"bias_regularizer\": null, \"activity_regularizer\": null, \"kernel_constraint\": null, \"bias_constraint\": null}}]}, \"keras_version\": \"2.5.0\", \"backend\": \"tensorflow\"}'"
      ]
     },
     "execution_count": 50,
     "metadata": {},
     "output_type": "execute_result"
    }
   ],
   "source": [
    "# # Load\n",
    "# with open('network1.json') as json_file:\n",
    "#     json_saved_model = json_file.read()\n",
    "# json_saved_model"
   ]
  },
  {
   "cell_type": "code",
   "execution_count": 53,
   "id": "comprehensive-firmware",
   "metadata": {},
   "outputs": [],
   "source": [
    "# network1_loaded = tf.keras.models.model_from_json(json_saved_model)\n",
    "# network1_loaded.load_weights('weights1.hdf5')\n",
    "# network1_loaded.compile(loss='binary_crossentropy', optimizer='Adam', metrics=['accuracy'])"
   ]
  },
  {
   "cell_type": "code",
   "execution_count": 54,
   "id": "informal-seattle",
   "metadata": {},
   "outputs": [
    {
     "name": "stdout",
     "output_type": "stream",
     "text": [
      "Model: \"sequential\"\n",
      "_________________________________________________________________\n",
      "Layer (type)                 Output Shape              Param #   \n",
      "=================================================================\n",
      "dense (Dense)                (None, 8193)              134242305 \n",
      "_________________________________________________________________\n",
      "dense_1 (Dense)              (None, 8193)              67133442  \n",
      "_________________________________________________________________\n",
      "dense_2 (Dense)              (None, 1)                 8194      \n",
      "=================================================================\n",
      "Total params: 201,383,941\n",
      "Trainable params: 201,383,941\n",
      "Non-trainable params: 0\n",
      "_________________________________________________________________\n"
     ]
    }
   ],
   "source": [
    "network1_loaded.summary()"
   ]
  },
  {
   "cell_type": "markdown",
   "id": "heavy-overall",
   "metadata": {},
   "source": [
    "## Classifying one single image"
   ]
  },
  {
   "cell_type": "code",
   "execution_count": 108,
   "id": "juvenile-north",
   "metadata": {},
   "outputs": [
    {
     "data": {
      "text/plain": [
       "array([1., 1., 1., ..., 1., 1., 1.])"
      ]
     },
     "execution_count": 108,
     "metadata": {},
     "output_type": "execute_result"
    }
   ],
   "source": [
    "test_image = X_test[0]\n",
    "test_image"
   ]
  },
  {
   "cell_type": "code",
   "execution_count": 109,
   "id": "reasonable-cookbook",
   "metadata": {},
   "outputs": [],
   "source": [
    "test_image = scaler.inverse_transform(test_image.reshape(1, -1))"
   ]
  },
  {
   "cell_type": "code",
   "execution_count": 110,
   "id": "american-confirmation",
   "metadata": {},
   "outputs": [
    {
     "data": {
      "text/plain": [
       "array([[255., 255., 255., ..., 255., 255., 255.]])"
      ]
     },
     "execution_count": 110,
     "metadata": {},
     "output_type": "execute_result"
    }
   ],
   "source": [
    "test_image"
   ]
  },
  {
   "cell_type": "code",
   "execution_count": 111,
   "id": "looking-emerald",
   "metadata": {},
   "outputs": [],
   "source": [
    "# cv2.imshow(' ', test_image.reshape(width, height))\n",
    "# cv2.waitKey(0)\n",
    "# cv2.destroyAllWindows()\n",
    "# cv2.waitKey(1)"
   ]
  },
  {
   "cell_type": "code",
   "execution_count": 112,
   "id": "broke-removal",
   "metadata": {},
   "outputs": [
    {
     "data": {
      "image/png": "[encoded data removed]",
      "text/plain": [
       "<Figure size 432x288 with 1 Axes>"
      ]
     },
     "metadata": {
      "needs_background": "light"
     },
     "output_type": "display_data"
    }
   ],
   "source": [
    "plt.imshow(test_image.reshape(128, 128), cmap='gray');"
   ]
  },
  {
   "cell_type": "code",
   "execution_count": 113,
   "id": "periodic-constant",
   "metadata": {},
   "outputs": [
    {
     "data": {
      "text/plain": [
       "0.0"
      ]
     },
     "execution_count": 113,
     "metadata": {},
     "output_type": "execute_result"
    }
   ],
   "source": [
    "network1_loaded.predict(test_image)[0][0]"
   ]
  },
  {
   "cell_type": "code",
   "execution_count": 114,
   "id": "proof-contents",
   "metadata": {},
   "outputs": [
    {
     "name": "stdout",
     "output_type": "stream",
     "text": [
      "Bart\n"
     ]
    }
   ],
   "source": [
    "if network1_loaded.predict(test_image)[0][0] < 0.5:\n",
    "    print('Bart')\n",
    "else:\n",
    "    print('Homer')"
   ]
  },
  {
   "cell_type": "code",
   "execution_count": null,
   "id": "underlying-separate",
   "metadata": {},
   "outputs": [],
   "source": []
  }
 ],
 "metadata": {
  "kernelspec": {
   "display_name": "Python 3",
   "language": "python",
   "name": "python3"
  },
  "language_info": {
   "codemirror_mode": {
    "name": "ipython",
    "version": 3
   },
   "file_extension": ".py",
   "mimetype": "text/x-python",
   "name": "python",
   "nbconvert_exporter": "python",
   "pygments_lexer": "ipython3",
   "version": "3.7.4"
  }
 },
 "nbformat": 4,
 "nbformat_minor": 5
}
